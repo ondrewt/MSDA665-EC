{
  "nbformat": 4,
  "nbformat_minor": 0,
  "metadata": {
    "colab": {
      "name": "MSDA665-ECs.ipynb",
      "provenance": [],
      "collapsed_sections": [],
      "authorship_tag": "ABX9TyOsJXL4J8W9dBzf80dkUQ3z",
      "include_colab_link": true
    },
    "kernelspec": {
      "name": "python3",
      "display_name": "Python 3"
    },
    "language_info": {
      "name": "python"
    }
  },
  "cells": [
    {
      "cell_type": "markdown",
      "metadata": {
        "id": "view-in-github",
        "colab_type": "text"
      },
      "source": [
        "<a href=\"https://colab.research.google.com/github/ondrewt/MSDA665-EC/blob/main/MSDA665_ECs.ipynb\" target=\"_parent\"><img src=\"https://colab.research.google.com/assets/colab-badge.svg\" alt=\"Open In Colab\"/></a>"
      ]
    },
    {
      "cell_type": "code",
      "metadata": {
        "colab": {
          "base_uri": "https://localhost:8080/"
        },
        "id": "pTq6tm_YjedP",
        "outputId": "0b2597c6-3999-4458-cd24-24a53197cebf"
      },
      "source": [
        "!pip install gurobipy\n"
      ],
      "execution_count": 4,
      "outputs": [
        {
          "output_type": "stream",
          "text": [
            "Requirement already satisfied: gurobipy in /usr/local/lib/python3.7/dist-packages (9.1.2)\n"
          ],
          "name": "stdout"
        }
      ]
    },
    {
      "cell_type": "code",
      "metadata": {
        "colab": {
          "base_uri": "https://localhost:8080/"
        },
        "id": "JndR9MC1jQQ4",
        "outputId": "16254fd1-ac6e-4955-98eb-19725f838ba5"
      },
      "source": [
        "import gurobipy as gp\n",
        "from gurobipy import GRB\n",
        "\n",
        "#Redbook Standards: https://www.travsonic.com/red-book-cd-format/\n",
        "cd_time_limit=4774.2\n",
        "cd_track_limit=99\n",
        "\n",
        "\n",
        "m=gp.Model(\"CD\")\n",
        "songs=[(\"specturn\",71),(\"blitztic\",205),(\"mailakite\",140),(\"sizemic\",190),(\"guisers\",234),(\"renegation\",185),(\"verdegrees\",235),(\"sparkhole\",164),(\"earworms\",74),(\"lux-crux-flux\",341),(\"lodestar,load\",216),(\"aurora`auras\",440),(\"x/static/husk\",123),(\"let.out.outlet\",244),(\"sunspot,sing\",296),(\"decrepitate\",393),(\"spirt\",270),(\"windown\",61),(\"terminill\",\"231\"),(\"amalgam\",210),(\"airloom\",83),(\"rectifire\",188),(\"lintspin\",203),(\"catharsis\",220)]\n",
        "l=len(songs)\n",
        "\n",
        "x=m.addVars(l,vtype=GRB.BINARY,lb=0,ub=1,name=\"x\")\n",
        "\n",
        "m.setObjective(gp.quicksum(x[i]*songs[i][1] for i in range(l)), GRB.MAXIMIZE)\n",
        "m.addConstr(gp.quicksum(x[i]*songs[i][1] for i in range(l))<=cd_time_limit,\"redbook_cd_max_runtime\")\n",
        "m.addConstr(gp.quicksum(x[i] for i in range(l))<=cd_track_limit,\"redbook_cd_max_tracks\")\n",
        "\n",
        "m.optimize()\n",
        "print(str(x[0]))\n",
        "tracks=1\n",
        "for i in x:\n",
        "  if \"1.0\" in str(x[i]):\n",
        "    print(\"Track #: \"+str(tracks)+\" Track Title: \"+str(songs[i][0])+\" Runtime: \"+str(songs[i][1]))\n",
        "    tracks+=1\n",
        "\n"
      ],
      "execution_count": 34,
      "outputs": [
        {
          "output_type": "stream",
          "text": [
            "Gurobi Optimizer version 9.1.2 build v9.1.2rc0 (linux64)\n",
            "Thread count: 1 physical cores, 2 logical processors, using up to 2 threads\n",
            "Optimize a model with 2 rows, 24 columns and 48 nonzeros\n",
            "Model fingerprint: 0x379cf5b5\n",
            "Variable types: 0 continuous, 24 integer (24 binary)\n",
            "Coefficient statistics:\n",
            "  Matrix range     [1e+00, 4e+02]\n",
            "  Objective range  [6e+01, 4e+02]\n",
            "  Bounds range     [1e+00, 1e+00]\n",
            "  RHS range        [1e+02, 5e+03]\n",
            "Found heuristic solution: objective 4594.0000000\n",
            "Presolve removed 1 rows and 5 columns\n",
            "Presolve time: 0.00s\n",
            "Presolved: 1 rows, 19 columns, 19 nonzeros\n",
            "Variable types: 0 continuous, 19 integer (19 binary)\n",
            "\n",
            "Root relaxation: objective 4.774200e+03, 1 iterations, 0.00 seconds\n",
            "\n",
            "    Nodes    |    Current Node    |     Objective Bounds      |     Work\n",
            " Expl Unexpl |  Obj  Depth IntInf | Incumbent    BestBd   Gap | It/Node Time\n",
            "\n",
            "     0     0 4774.20000    0    1 4594.00000 4774.20000  3.92%     -    0s\n",
            "H    0     0                    4759.0000000 4774.20000  0.32%     -    0s\n",
            "H    0     0                    4762.0000000 4774.20000  0.26%     -    0s\n",
            "     0     0 4774.20000    0    1 4762.00000 4774.20000  0.26%     -    0s\n",
            "*    0     0               0    4773.0000000 4773.00000  0.00%     -    0s\n",
            "\n",
            "Cutting planes:\n",
            "  Cover: 1\n",
            "  MIR: 1\n",
            "\n",
            "Explored 1 nodes (5 simplex iterations) in 0.04 seconds\n",
            "Thread count was 2 (of 2 available processors)\n",
            "\n",
            "Solution count 4: 4773 4762 4759 4594 \n",
            "\n",
            "Optimal solution found (tolerance 1.00e-04)\n",
            "Best objective 4.773000000000e+03, best bound 4.773000000000e+03, gap 0.0000%\n",
            "<gurobi.Var x[0] (value 1.0)>\n",
            "Track #: 1 Track Title: specturn Runtime: 71\n",
            "Track #: 2 Track Title: blitztic Runtime: 205\n",
            "Track #: 3 Track Title: mailakite Runtime: 140\n",
            "Track #: 4 Track Title: sizemic Runtime: 190\n",
            "Track #: 5 Track Title: guisers Runtime: 234\n",
            "Track #: 6 Track Title: renegation Runtime: 185\n",
            "Track #: 7 Track Title: verdegrees Runtime: 235\n",
            "Track #: 8 Track Title: sparkhole Runtime: 164\n",
            "Track #: 9 Track Title: earworms Runtime: 74\n",
            "Track #: 10 Track Title: lux-crux-flux Runtime: 341\n",
            "Track #: 11 Track Title: lodestar,load Runtime: 216\n",
            "Track #: 12 Track Title: aurora`auras Runtime: 440\n",
            "Track #: 13 Track Title: x/static/husk Runtime: 123\n",
            "Track #: 14 Track Title: sunspot,sing Runtime: 296\n",
            "Track #: 15 Track Title: decrepitate Runtime: 393\n",
            "Track #: 16 Track Title: spirt Runtime: 270\n",
            "Track #: 17 Track Title: windown Runtime: 61\n",
            "Track #: 18 Track Title: terminill Runtime: 231\n",
            "Track #: 19 Track Title: amalgam Runtime: 210\n",
            "Track #: 20 Track Title: airloom Runtime: 83\n",
            "Track #: 21 Track Title: rectifire Runtime: 188\n",
            "Track #: 22 Track Title: lintspin Runtime: 203\n",
            "Track #: 23 Track Title: catharsis Runtime: 220\n"
          ],
          "name": "stdout"
        }
      ]
    }
  ]
}